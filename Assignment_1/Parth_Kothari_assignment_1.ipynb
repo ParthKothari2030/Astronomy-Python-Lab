{
 "cells": [
  {
   "cell_type": "markdown",
   "id": "af10b95f",
   "metadata": {},
   "source": [
    "# Assignment 1 - AA651\n",
    "## Parth Kothari \n",
    "## Roll no.: 2303121012"
   ]
  },
  {
   "cell_type": "markdown",
   "id": "67819a82",
   "metadata": {},
   "source": [
    "### 1. Stability of computation"
   ]
  },
  {
   "cell_type": "code",
   "execution_count": 1,
   "id": "063a5598",
   "metadata": {},
   "outputs": [],
   "source": [
    "import numpy as np\n",
    "import matplotlib.pyplot as plt\n",
    "import scipy.integrate as sc_integ\n"
   ]
  },
  {
   "cell_type": "markdown",
   "id": "ce377650",
   "metadata": {},
   "source": [
    "### Problem 1 "
   ]
  },
  {
   "cell_type": "code",
   "execution_count": 2,
   "id": "fc65a86b",
   "metadata": {},
   "outputs": [
    {
     "name": "stdout",
     "output_type": "stream",
     "text": [
      "single precision\n",
      "        The iteration corresponding to smallest value is: 23\n",
      "        The value is: 1.1920928955078125e-07\n",
      "double precision\n",
      "        The iteration corresponding to smallest value is: 52\n",
      "        The value is: 2.220446049250313e-16\n"
     ]
    }
   ],
   "source": [
    "#Single precision\n",
    "s = np.float32(1.0)\n",
    "for k in range(1,101):\n",
    "    s = s*np.float32(0.5)\n",
    "    t = s + np.float32(1.0)\n",
    "    if t<= np.float32(1.0):\n",
    "        s = s*np.float32(2.0)\n",
    "        print(f'''single precision\n",
    "        The iteration corresponding to smallest value is: {k-1}\n",
    "        The value is: {s}''')\n",
    "        break\n",
    "        \n",
    "# Double precision\n",
    "s = np.float64(1.0)\n",
    "for k in range(1,101):\n",
    "    s = s*np.float64(0.5)\n",
    "    t = s + np.float64(1.0)\n",
    "    if t<= np.float64(1.0):\n",
    "        s = s*np.float64(2.0)\n",
    "        print(f'''double precision\n",
    "        The iteration corresponding to smallest value is: {k-1}\n",
    "        The value is: {s}''')\n",
    "        break"
   ]
  },
  {
   "cell_type": "markdown",
   "id": "c3d3a035",
   "metadata": {},
   "source": [
    "### Problem 2"
   ]
  },
  {
   "cell_type": "code",
   "execution_count": 3,
   "id": "25e48115",
   "metadata": {},
   "outputs": [
    {
     "name": "stdout",
     "output_type": "stream",
     "text": [
      "The error in method 1 is: 1.5477540519016434e-14\n",
      "The error in method 2 is: 1.5477540519016194e-14\n",
      "Fractional error is relatively less in 1st method\n",
      "\n",
      "The error in method 1 is: 1.9895607230461395e-12\n",
      "The error in method 2 is: 1.989560723042181e-12\n",
      "Fractional error is relatively less in 1st method\n",
      "\n",
      "The error in method 1 is: 1.1742801846932693e-10\n",
      "The error in method 2 is: 1.1742801848311627e-10\n"
     ]
    }
   ],
   "source": [
    "x_value = [0.1,0.01,0.001]\n",
    "def first_function(x):\n",
    "    return (x**2 + 1.0)**0.5 - 1.0\n",
    "def second_function(x):\n",
    "    return x**2 / ((x**2 + 1.0)**0.5 + 1.0) \n",
    "\n",
    "\n",
    "\n",
    "for i in x_value:\n",
    "    y_1_values = first_function(i)\n",
    "    y_2_values = second_function(i)\n",
    "    fractional_error1 = abs((y_1_values - y_2_values)/y_1_values)\n",
    "    fractional_error2 = abs((y_1_values - y_2_values)/y_2_values)\n",
    "    print(f'The error in method 1 is: {fractional_error1}')\n",
    "    print(f'The error in method 2 is: {fractional_error2}')\n",
    "    \n",
    "    if fractional_error1 > fractional_error2:\n",
    "        print(\"Fractional error is relatively less in 1st method\\n\")"
   ]
  },
  {
   "cell_type": "markdown",
   "id": "97f3d4a1",
   "metadata": {},
   "source": [
    "### Problem 3"
   ]
  },
  {
   "cell_type": "code",
   "execution_count": 4,
   "id": "665450a5",
   "metadata": {},
   "outputs": [
    {
     "name": "stdout",
     "output_type": "stream",
     "text": [
      "actual value and recursion value for n = 16: 0.00045310385378482274, 0.0004531038537312071\n",
      "actual value and recursion value for n = 30: 5.374904998555718e-07, 5.374453024842296e-07\n",
      "The difference between actual value and recursion value for n = 16 is: 5.361564057310142e-14\n",
      "The difference between actual value and recursion value for n = 30 is: 4.519737134215377e-11\n"
     ]
    }
   ],
   "source": [
    "x = (np.sqrt(5.0) - 1.0)/2.0\n",
    "# recursion relation given is x**(n+1) = x**(n-1) - x**n\n",
    "# For our case we can redefine it to be x**(n) = x**(n-2) - x**(n-1)\n",
    "def recursion(n):\n",
    "    if n == 0:\n",
    "        return 1\n",
    "    elif n == 1:\n",
    "        return x\n",
    "    else:\n",
    "        return recursion(n-2) - recursion(n-1)\n",
    " \n",
    "def actual_values(j):\n",
    "    a_c = x**j\n",
    "    return a_c\n",
    "print(f'actual value and recursion value for n = 16: {actual_values(16)}, {recursion(16)}')\n",
    "print(f'actual value and recursion value for n = 30: {actual_values(30)}, {recursion(30)}')\n",
    "print(f'The difference between actual value and recursion value for n = 16 is: {actual_values(16) - recursion(16)}')\n",
    "print(f'The difference between actual value and recursion value for n = 30 is: {actual_values(30) - recursion(30)}')\n",
    "\n"
   ]
  },
  {
   "cell_type": "markdown",
   "id": "7d7629f3",
   "metadata": {},
   "source": [
    "### Problem 4"
   ]
  },
  {
   "cell_type": "code",
   "execution_count": 5,
   "id": "db602272",
   "metadata": {},
   "outputs": [
    {
     "name": "stdout",
     "output_type": "stream",
     "text": [
      "Value of integral for n = 15, 0.16042630893253407\n",
      "Value of integral via recursion: 0.16020549212543944 \n",
      "error between the values is: 0.0013764376215093784\n",
      "\n",
      "Value of integral for n = 20, 0.12380383076256998\n",
      "Value of integral via recursion: 410.94905709403787 \n",
      "error between the values is: 3318.3565543392006\n",
      "\n"
     ]
    }
   ],
   "source": [
    "values = [15,20]\n",
    "def Integral_function(x,n):\n",
    "    return (x**n) * (np.exp(x))\n",
    "def recursion(n):\n",
    "    if n == 0:\n",
    "        return sc_integ.quad(Integral_function,0.0,1.0,args=(n))[0]\n",
    "    else:\n",
    "        return np.e - (n)*recursion(n-1)\n",
    "for n in values:\n",
    "    recursion_value = recursion(n)\n",
    "    integral_value = sc_integ.quad(Integral_function,0.0,1.0,args=(n))[0]\n",
    "    error_in_method = abs(recursion_value - integral_value)/ abs(integral_value)\n",
    "    print(f'Value of integral for n = {n}, {integral_value}')\n",
    "    print(f'Value of integral via recursion: {recursion_value} ')\n",
    "    print(f'error between the values is: {error_in_method}\\n')"
   ]
  },
  {
   "cell_type": "markdown",
   "id": "0978be3e",
   "metadata": {},
   "source": [
    "### Problem 5"
   ]
  },
  {
   "cell_type": "code",
   "execution_count": 6,
   "id": "4a4ae43a",
   "metadata": {},
   "outputs": [
    {
     "name": "stdout",
     "output_type": "stream",
     "text": [
      "Diffrentiated positive and negative values of X: ([2.7182817, 1.4142135, 0.5772157, 0.30103], [-3.1415927])\n",
      "Diffrentiated positive and negative values of Y: ([1486.2498, 878367.0, 4773714.5, 0.000185049], [-22.37492])\n",
      "\n",
      "Single Precision value for Forward summation:  -0.5\n",
      "Single Precision value for Reverse summation:  -0.5\n",
      "Single Precision value for smallest to largest order:  14219428.0\n",
      "Single precision value for Largest to smallest order: 14219428.0\n",
      "\n",
      "\n",
      "By default computer works in double precision(64bit)\n",
      "Double Precision value for Forward summation:  -7.431488484144211e-06\n",
      "Double Precision value for Reverse summation:  -7.431488484144211e-06\n",
      "Double Precision value for smallest to largest order:  14219428.439379035\n",
      "Double precision value for Largest to smallest order: 14219428.439379035\n"
     ]
    }
   ],
   "source": [
    "x = np.array([2.718281823, -3.141592654, 1.414213562, 0.5772156649, 0.3010299957])\n",
    "y = np.array([1486.2497, 878366.9879, -22.37492, 4773714.647, 0.000185049])\n",
    "\n",
    "def Dot_pro(i,j):\n",
    "    return np.dot(i,j)\n",
    "\n",
    "def positive_negative(z):\n",
    "    positive = [] \n",
    "    negative = []\n",
    "\n",
    "    for i in z:\n",
    "        if i >= 0:\n",
    "            positive.append(i)\n",
    "        else:\n",
    "            negative.append(i)\n",
    "\n",
    "    return positive, negative\n",
    "#Single precision\n",
    "X = np.float32(x)\n",
    "Y = np.float32(y)\n",
    "X_positive,X_negative = positive_negative(X)\n",
    "Y_positive,Y_negative = positive_negative(Y)\n",
    "print(f'Diffrentiated positive and negative values of X: {X_positive,X_negative}') \n",
    "print(f'Diffrentiated positive and negative values of Y: {Y_positive,Y_negative}\\n')\n",
    "\n",
    "A,W = np.sort(X_positive),np.sort(X_positive)[::-1]\n",
    "B,O = np.sort(Y_positive),np.sort(Y_positive)[::-1]\n",
    "C = Dot_pro(A,B)\n",
    "F = Dot_pro(W,O)\n",
    "D = Dot_pro(X_negative,Y_negative)\n",
    "Small_largest_dot = C + D\n",
    "Largest_small_dot = F + D \n",
    "\n",
    "\n",
    "print(\"Single Precision value for Forward summation: \",Dot_pro(X,Y))\n",
    "print(\"Single Precision value for Reverse summation: \",Dot_pro(X[::-1],Y[::-1]))\n",
    "print(\"Single Precision value for smallest to largest order: \",Small_largest_dot)\n",
    "print(\"Single precision value for Largest to smallest order:\",Largest_small_dot)\n",
    "print('\\n')\n",
    "\n",
    "# Double precision\n",
    "print(\"By default computer works in double precision(64bit)\")\n",
    "x_positive,x_negative = positive_negative(x)\n",
    "y_positive,y_negative = positive_negative(y)\n",
    "\n",
    "A,W = np.sort(x_positive),np.sort(x_positive)[::-1]\n",
    "B,O = np.sort(y_positive),np.sort(y_positive)[::-1]\n",
    "C = Dot_pro(A,B)\n",
    "F = Dot_pro(W,O)\n",
    "D = Dot_pro(x_negative,y_negative)\n",
    "Small_largest_dot_Double = C + D\n",
    "Largest_small_dot_Double = F + D \n",
    "print(\"Double Precision value for Forward summation: \",Dot_pro(x,y))\n",
    "print(\"Double Precision value for Reverse summation: \",Dot_pro(x[::-1],y[::-1]))\n",
    "print(\"Double Precision value for smallest to largest order: \",Small_largest_dot_Double)\n",
    "print(\"Double precision value for Largest to smallest order:\",Largest_small_dot_Double)\n"
   ]
  },
  {
   "cell_type": "code",
   "execution_count": null,
   "id": "0b071af2",
   "metadata": {},
   "outputs": [],
   "source": []
  }
 ],
 "metadata": {
  "kernelspec": {
   "display_name": "Python 3 (ipykernel)",
   "language": "python",
   "name": "python3"
  },
  "language_info": {
   "codemirror_mode": {
    "name": "ipython",
    "version": 3
   },
   "file_extension": ".py",
   "mimetype": "text/x-python",
   "name": "python",
   "nbconvert_exporter": "python",
   "pygments_lexer": "ipython3",
   "version": "3.9.13"
  }
 },
 "nbformat": 4,
 "nbformat_minor": 5
}
